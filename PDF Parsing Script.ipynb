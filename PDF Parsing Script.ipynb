{
 "cells": [
  {
   "cell_type": "code",
   "execution_count": 1,
   "metadata": {
    "collapsed": true
   },
   "outputs": [],
   "source": [
    "import os\n",
    "import re\n",
    "import pandas as pd\n",
    "from pandas import Series,DataFrame\n",
    "import numpy as np"
   ]
  },
  {
   "cell_type": "code",
   "execution_count": 2,
   "metadata": {
    "collapsed": false
   },
   "outputs": [],
   "source": [
    "alldata = []"
   ]
  },
  {
   "cell_type": "code",
   "execution_count": 3,
   "metadata": {
    "collapsed": false
   },
   "outputs": [],
   "source": [
    "# (using this as oppossed to native Pandas because txt doesn't injest easilly)\n",
    "pdf_file = 'FormIs.html'\n",
    "pdf = open(pdf_file, \"r\")"
   ]
  },
  {
   "cell_type": "code",
   "execution_count": 4,
   "metadata": {
    "collapsed": false
   },
   "outputs": [],
   "source": [
    "# puts the data from the pdf into a list, skipping new line characters\n",
    "for line in pdf:\n",
    "    alldata.append(line.strip())"
   ]
  },
  {
   "cell_type": "code",
   "execution_count": 5,
   "metadata": {
    "collapsed": false
   },
   "outputs": [
    {
     "data": {
      "text/plain": [
       "['<!DOCTYPE HTML PUBLIC \"-//W3C//DTD HTML 4.01 Transitional//EN\"><HTML>',\n",
       " '<HEAD>',\n",
       " '<TITLE></TITLE>',\n",
       " '</HEAD>',\n",
       " '<BODY>',\n",
       " '<A name=1></a>American Land Title Association<br>',\n",
       " 'ALTA Commitment<br>',\n",
       " 'Adopted 6-17-06<br>',\n",
       " 'CHICAGO TITLE INSURANCE COMPANY </span><span class=\"ft5\">800-943-1196<br>',\n",
       " 'SCHEDULE A<br>',\n",
       " 'Loan No.:<br>',\n",
       " 'Title No.: AZP<br>',\n",
       " '1.<br>',\n",
       " 'Effective date:<br>',\n",
       " '9th day of March, 2017<br>',\n",
       " '2.<br>',\n",
       " 'Issue Date: 03/17/2017<br>',\n",
       " 'This Title Insurance Commitment is good for 60 days from the effective date. If you close a transaction based on<br>',\n",
       " 'this Title Insurance Commitment without a title update, Chicago Title Insurance Company will not issue a Title<br>',\n",
       " 'Insurance Policy.<br>',\n",
       " '2.<br>',\n",
       " 'Policy (or Policies) to be issued:<br>',\n",
       " '(a)<br>',\n",
       " \"Owner's Policy 2006 Owner's Policy<br>\",\n",
       " 'Policy<br>',\n",
       " 'TBD<br>',\n",
       " 'Form<br>',\n",
       " 'Amount<br>',\n",
       " 'Proposed Insured:<br>',\n",
       " 'Policy Premium:<br>',\n",
       " '(Additional discounts may apply)<br>',\n",
       " '(b)<br>',\n",
       " 'Loan Policy 2006 Loan Policy Form<br>',\n",
       " 'Policy<br>',\n",
       " 'TBD<br>',\n",
       " 'Amount<br>',\n",
       " 'Proposed Insured:<br>',\n",
       " 'Policy Premium:<br>',\n",
       " '(Additional discounts may apply)<br>',\n",
       " '3.<br>',\n",
       " 'The estate or interest in the land described or referred to in this Commitment POLICY is:<br>',\n",
       " 'FEE SIMPLE<br>',\n",
       " 'The estate is subject to, and the Company does not insure title to, and excepts from the description of the land, coal,<br>',\n",
       " 'lignite, oil, gas and other minerals in, under and that may be produced from the land, together with all rights,<br>',\n",
       " 'privileges, and immunities relating thereto<br>',\n",
       " '<hr>',\n",
       " '<A name=2></a>American Land Title Association<br>',\n",
       " 'ALTA Commitment<br>',\n",
       " 'Adopted 6-17-06<br>',\n",
       " '4.<br>',\n",
       " 'Title to the Fee Simple estate or interest in the land is at the Effective Date vested in:<br>',\n",
       " '2013-1 IH BORROWER L.P., A DELAWARE LIMITED PARTNERSHIP<br>',\n",
       " 'Deed Type: Special Warranty Deed<br>',\n",
       " 'Grantors: THR PHOENIX, L.P., A DELAWARE LIMITED PARTNERSHIP<br>',\n",
       " 'Grantees: 2013-1 IH BORROWER L.P., A DELAWARE LIMITED PARTNERSHIP<br>',\n",
       " 'Dated: November 19, 2013<br>',\n",
       " 'Recorded Date: November 21, 2013<br>',\n",
       " 'Consideration: $10.00<br>',\n",
       " 'BOOK:<br>',\n",
       " 'PAGE:<br>',\n",
       " 'Instrument: 20131006794<br>',\n",
       " \"Deed Type: Trustee's Deed<br>\",\n",
       " 'Grantors: MICHAEL A. BOSCO, JR., AS THE DULY APPOINTED TRUSTEE (OR SUCCESSOR<br>',\n",
       " 'TRUSTEE OR SUBSTITUTED TRUSTEE)<br>',\n",
       " 'Grantees: THR PHOENIX, LLC, A DELAWARE LIMITED LIABILITY COMPANY<br>',\n",
       " 'Dated: April 30, 2012<br>',\n",
       " 'Recorded Date: May 31, 2012<br>',\n",
       " 'Consideration: $0.00<br>',\n",
       " 'BOOK:<br>',\n",
       " 'PAGE:<br>',\n",
       " 'Instrument: 20120467121<br>',\n",
       " '5.<br>',\n",
       " 'The land referred to in this Commitment is described as follows:<br>',\n",
       " 'SEE EXHIBIT \"A\" ATTACHED HERETO AND MADE A PART HEREOF<br>',\n",
       " 'Countersigned: _______________________________<br>',\n",
       " 'Authorized Signatory<br>',\n",
       " '<hr>',\n",
       " '<A name=3></a>CHICAGO TITLE INSURANCE COMPANY </span><span class=\"ft4\">800-943-1196<br>',\n",
       " 'Title No AZP<br>',\n",
       " 'LEGAL DESCRIPTION<br>',\n",
       " 'EXHIBIT \"A\"<br>',\n",
       " 'THE LAND REFERRED TO HEREIN BELOW IS SITUATED IN THE COUNTY OF MARICOPA, STATE OF ARIZONA,<br>',\n",
       " 'AND IS DESCRIBED AS FOLLOWS:<br>',\n",
       " 'LOT 430, OF DAVE BROWN DYSART &amp; THUNDERBIRD UNIT 2, ACCORDING TO THE PLAT OF RECORD IN<br>',\n",
       " 'THE OFFICE OF THE COUNTY RECORDER OF MARICOPA COUNTY, ARIZONA, RECORDED AS BOOK 530 OF<br>',\n",
       " 'MAPS, PAGE 17.<br>',\n",
       " 'Parcel ID: 501-37-777<br>',\n",
       " 'Commonly known as 13209 N 129th Drive, El Mirage, AZ 85335<br>',\n",
       " 'However, by showing this address no additional coverage is provided<br>',\n",
       " '<hr>',\n",
       " '<A name=4></a>CHICAGO TITLE INSURANCE COMPANY </span><span class=\"ft3\">800-943-1196<br>',\n",
       " 'Title No. AZP<br>',\n",
       " 'SCHEDULE B \\xad SECTION I<br>',\n",
       " 'REQUIREMENTS<br>',\n",
       " 'The following requirements must be met:<br>',\n",
       " '1) Pay the agreed amounts for the interest in the land and/or the mortgage to be insured.<br>',\n",
       " '2) Pay us the premiums, fees and charges for the policy.<br>',\n",
       " '3) If the insured premises include a mobile or manufactured home that has not been permanently affixed to the<br>',\n",
       " 'premises, Company will not issue a final policy of title insurance and any and all obligations created under this<br>',\n",
       " 'commitment will be void.<br>',\n",
       " '4) Instrument(s) creating the estate or interest (Title) to be insured, executed, delivered and recorded in the Public<br>',\n",
       " 'Records of the appropriate county.<br>',\n",
       " '5) You must tell us in writing the name of anyone not referred to in this Commitment who will get an interest in the<br>',\n",
       " 'land or who will make a loan on the land. We may then make additional requirements or exceptions.<br>',\n",
       " '6) Pay all taxes, charges, and assessments affecting the land that are due and payable.<br>',\n",
       " \"7) Duly executed Title/Owner's Affidavit.<br>\",\n",
       " '8) Documents for recordation pertinent to this transaction are required to be presented for recording in the format<br>',\n",
       " 'required by the appropriate county recording jurisdiction<br>',\n",
       " '9) Tax Information to follow as Exhibit B.<br>',\n",
       " '10) A judgment search has been performed in the county land records, for buyer(s) Tbd Tbd and seller(s) Tbd Tbd and<br>',\n",
       " '2013-1 IH BORROWER LP, A DELAWARE LIMITED PARTNERSHIP<br>',\n",
       " '. Results of this search for the name of<br>',\n",
       " 'buyer(s) Tbd Tbd and seller(s) Tbd Tbd and 2013-1 IH BORROWER LP, A DELAWARE LIMITED<br>',\n",
       " 'PARTNERSHIP will be named in this commitment, if any. (All results herein are for information purposes only<br>',\n",
       " 'and are not warranted for content, accuracy or any other implied or explicit purpose)<br>',\n",
       " '11) Company requires a Warranty Deed for the consideration amount of $1.00 from 2013-1 IH BORROWER LP, A<br>',\n",
       " 'DELAWARE LIMITED PARTNERSHIP , to Tbd Tbd, be executed, and delivered in recordable form.<br>',\n",
       " '12) Company requires a new Mortgage, deed of trust, security instrument in the amount of $1.00 from Tbd Tbd to B2R<br>',\n",
       " 'Finance, L.P. ISAOA/ATIMA, 4201 Congress St. #475, Charlotte, NC 28209, be executed, and delivered in<br>',\n",
       " 'recordable form.<br>',\n",
       " '13) In accordance with the terms and provisions of the Commitment POLICY jacket, this Commitment POLICY shall<br>',\n",
       " 'be effective only when the amount of the insurance to be committed has been inserted in Schedule A by the<br>',\n",
       " 'Company.<br>',\n",
       " '14) Obtain and File Satisfactory resolution of the following matters:<br>',\n",
       " '<hr>',\n",
       " '<A name=5></a>1. No bankruptcy filing on behalf of 2013-1 IH BORROWER, L.P., Debtor, in the State of ARIZONA appear<br>',\n",
       " 'of record. Any claim caused by or arising out of any bankruptcy proceeding that was not disclosed by filed<br>',\n",
       " 'notice from the Federal District Court, for the State of ARIZONA Bankruptcy Divisions, is hereby excluded<br>',\n",
       " 'from coverage. (All results herein are for information purposes only and are not warranted for content, accuracy<br>',\n",
       " 'or any other implied or explicit purpose)<br>',\n",
       " '2. Company requires the payment of delinquent and/or outstanding taxes.<br>',\n",
       " '3. The Company will require the following documents for review prior to the issuance of any title assurance<br>',\n",
       " 'predicated upon a conveyance or encumbrance from the limited partnership named as the vested owner of<br>',\n",
       " 'record:<br>',\n",
       " '(a) Satisfactory evidence that the partnership was validly formed (Certificate of Formation), is in good standing<br>',\n",
       " 'and that there have been no amendments to the partnership agreement.<br>',\n",
       " 'The Company reserves the right to add additional items or make further requirements after review of the<br>',\n",
       " 'requested documentation.<br>',\n",
       " '<hr>',\n",
       " '<A name=6></a>CHICAGO TITLE INSURANCE COMPANY </span><span class=\"ft4\">800-943-1196<br>',\n",
       " 'Title No AZP<br>',\n",
       " 'SCHEDULE B \\xad SECTION II<br>',\n",
       " 'EXCEPTIONS<br>',\n",
       " 'Schedule B of the policy or policies to be issued will contain exceptions to the following matters unless the same are<br>',\n",
       " 'disposed of to the satisfaction of the Company:<br>',\n",
       " '1.<br>',\n",
       " 'Defects, liens, encumbrances, adverse claims or other matters, if any, created, first appearing in the public records<br>',\n",
       " 'or attaching subsequent to the Effective Date but prior to the date the proposed Insured acquires for value of record<br>',\n",
       " 'the estate or interest or mortgage thereon covered by this Commitment.<br>',\n",
       " '2.<br>',\n",
       " 'Any lien, or right to alien, for services, labor or material heretofore or hereafter furnished, imposed by law and not<br>',\n",
       " 'shown by the public records.<br>',\n",
       " '3.<br>',\n",
       " 'Any encroachment, conflicts in boundary lines, discrepancies, easements, measurement, encumbrance, violation,<br>',\n",
       " 'variation, adverse circumstance or other state of facts affecting the title that would be disclosed by an accurate and<br>',\n",
       " 'complete survey of the land. The term \"encroachment\" includes encroachments of existing improvements located<br>',\n",
       " 'on the land onto adjoining land, and encroachments onto the land of existing improvements located on adjoining<br>',\n",
       " 'land.<br>',\n",
       " '4.<br>',\n",
       " 'The exact acreage or square footage of the premises will not be insured.<br>',\n",
       " '5.<br>',\n",
       " 'Rights, facts, interests or claims of present tenants, lessees or parties in possession which are not shown by the<br>',\n",
       " 'Public Records, but which could be ascertained by an inspection of said Land or by making inquiry of persons in<br>',\n",
       " 'possession thereof.<br>',\n",
       " '6.<br>',\n",
       " 'Streams, riparian rights, littoral rights and the title to any filled-in-lands.<br>',\n",
       " '7.<br>',\n",
       " 'Taxes or special assessments which are not shown as existing liens by the public records.<br>',\n",
       " '8.<br>',\n",
       " 'Covenants, conditions and restrictions and other instruments recorded in the public records and purporting to<br>',\n",
       " 'impose a transfer fee or conveyance fee payable upon the conveyance of a interest in real property or payable for<br>',\n",
       " 'the right to make or accept such a transfer, and any and all fees, liens or charges, whether recorded or unrecorded, if<br>',\n",
       " 'any, currently due payable or that will become due or payable, and any other rights deriving therefrom, that are<br>',\n",
       " 'assessed pursuant thereto.<br>',\n",
       " '9.<br>',\n",
       " 'Any easements or servitudes not appearing in the public records.<br>',\n",
       " '10.<br>',\n",
       " 'Any lease, grant, exception or reservation of minerals or mineral rights appearing in the public records.<br>',\n",
       " '11.<br>',\n",
       " \"Homeowner's or other association dues, assessments or fees for which no notice of delinquency, lien, claim of lien<br>\",\n",
       " 'or assessment has been filed of record in the real property records.<br>',\n",
       " '12.<br>',\n",
       " 'Any matters listed as requirements on Schedule B-I that are not resolved to the satisfaction of Company will be<br>',\n",
       " 'shown as an exception on final policy.<br>',\n",
       " '13.<br>',\n",
       " 'Any lien for service, installation, connection, maintenance, tap, capacity, or construction or similar charges for<br>',\n",
       " 'sewer, water, electricity, natural gas or other utilities, or for garbage collection and disposal by any utility service<br>',\n",
       " 'provider or authority that delivers such services and levies such charges, not shown as an existing lien by the Public<br>',\n",
       " 'Records.<br>',\n",
       " '<hr>',\n",
       " '<A name=7></a>14.<br>',\n",
       " 'Company will not issue a policy to the proposed insured(s) if the contemplated transaction involves a Short Sale. A<br>',\n",
       " 'short sale is defined as any sale or refinance transaction where the current mortgagee(s) or beneficiary(ies) of a deed<br>',\n",
       " 'of trust have agreed to satisfy/reconvey their interest for less than the full amount owed under the mortgage/deed of<br>',\n",
       " \"trust. It is the insured's obligation to notify Company if this transaction involves Short Sale.<br>\",\n",
       " '15)<br>',\n",
       " 'Terms, provisions, covenants, conditions, restrictions, easements, charges, assessments and liens provided in the<br>',\n",
       " 'Covenants, Conditions and Restrictions recorded in (instrument) 201301006794, but omitting any covenant, condition<br>',\n",
       " 'or restriction, if any, based on race, color, religion, sex, handicap, familial status, or national origin unless and only to<br>',\n",
       " 'the extent that the covenant, condition or restriction (a) is exempt under Title 42 of the United States Code, or (b) relates<br>',\n",
       " 'to handicap, but does not discriminate against handicapped persons.<br>',\n",
       " '16) ANY<br>',\n",
       " 'ENCROACHMENT,<br>',\n",
       " 'CONFLICTS<br>',\n",
       " 'IN<br>',\n",
       " 'BOUNDARY<br>',\n",
       " 'LINES,<br>',\n",
       " 'DISCREPANCIES,<br>',\n",
       " 'EASEMENTS,<br>',\n",
       " 'MEASUREMENT, ENCUMBRANCE, VIOLATION, VARIATION, ADVERSE CIRCUMSTANCE OR OTHER<br>',\n",
       " 'STATE OF FACTS AFFECTING THE TITLE THAT WOULD BE DISCLOSED BY AN ACCURATE AND<br>',\n",
       " 'COMPLETE SURVEY OF THE LAND. THE TERM \"ENCROACHMENT\" INCLUDES ENCROACHMENTS OF<br>',\n",
       " 'EXISTING IMPROVEMENTS LOCATED ON THE LAND ONTO ADJOINING LAND, AND ENCROACHMENTS<br>',\n",
       " 'ONTO THE LAND OF EXISTING IMPROVEMENTS LOCATED ON ADJOINING LAND.<br>',\n",
       " '17) LIABILITIES AND OBLIGATIONS IMPOSED UPON SAID LAND BY ITS INCLUSION WITHIN ANY<br>',\n",
       " 'DISTRICT FORMED PURSUANT TO TITLE 48, ARIZONA REVISED STATUTES.<br>',\n",
       " '18) THE LIABILITIES AND OBLIGATIONS IMPOSED UPON SAIS LAND BY REASON OF: (A) INCLUSION<br>',\n",
       " 'THEREOF WITHIN THE BOUNDARIES OF SALT RIVER PROJECT AGRICULTURAL IMPROVEMENT AND<br>',\n",
       " 'POWER DISTRICT; (B) MEMBERSHIP OF THE OWNER THEREOF IN THE SALT RIVER VALLEY WATER<br>',\n",
       " \"USER' ASSOCIATION, AN ARIZONA CORPORATION AND (C) THE TERMS OF ANY WATER RIGHT<br>\",\n",
       " 'APPLICATION MADE UNDER THE RECLAMATION LAWS OF THE UNITED STATES FOR THE PURPOSES<br>',\n",
       " 'OF OBTAINING WATER RIGHTS FOR SAID LAND.<br>',\n",
       " '19) RIGHTS, FACTS, INTERESTS OR CLAIMS OF PRESENT TENANTS AND LESSEES UNDER WRITTEN<br>',\n",
       " 'LEASES (BUT NOT OTHER PARTIES IN POSSESSION OR OTHER PARTIES CLAIMING A RIGHT TO<br>',\n",
       " 'OCCUPY) WHICH ARE NOT SHOWN BY THE PUBLIC RECORDS, BUT WHICH COULD BE ASCERTAINED<br>',\n",
       " 'BY AN INSPECTION OF SAID LAND OR BY MAKING INQUIRY OF PERSONS IN POSSESSION THEREOF.<br>',\n",
       " '20) ANY RIGHTS, LIENS, CLAIMS OR EQUITIES, IF ANY, IN FAVOR OF MCMICKEN IRRIGATION DISTRICT.<br>',\n",
       " '21) LIABILITIES AND OBLIGATIONS IMPOSED UPON SAID LAND BY ITS INCLUSION WITHIN ANY<br>',\n",
       " 'DISTRICT FORMED PURSUANT TO TITLE 48, ARIZONA REVISED STATUTES.<br>',\n",
       " '22) COVENANTS, CONDITIONS, RESTRICTIONS AND EASEMENTS BUT OMITTING ANY COVENANTS OR<br>',\n",
       " 'RESTRICTIONS, IF ANY, INCLUDING BUT NOT LIMITED TO THOSE BASED UPON RACE, COLOR,<br>',\n",
       " 'RELIGION, SEX, SEXUAL ORIENTATION, FAMILIAL STATUS, MARITAL STATUS, DISABILITY,<br>',\n",
       " 'HANDICAP, NATIONAL ORIGIN, ANCESTRY, OR SOURCE OF INCOME, AS SET FORTH IN APPLICABLE<br>',\n",
       " 'STATE OR FEDERAL LAWS, EXCEPT TO THE EXTENT THAT SAID COVENANT OR RESTRICTION IS<br>',\n",
       " 'PERMITTED BY APPLICABLE LAW, AS SET FORTH IN THE DOCUMENT RECORDING NO: 2000-39327<br>',\n",
       " 'DECLARATION OF ANNEXATION RECORDED IN RECORDING NO.2001-0260201 LIENS AND CHARGES AS<br>',\n",
       " 'SET FORTH IN THE ABOVE MENTIONED DECLARATION, PAYABLE TO: DAVE BROWN AT DYSART AND<br>',\n",
       " 'THUNDERBIRD ASSOCIATION.<br>',\n",
       " 'NOTE: Any map/plat is provided as a courtesy as an aid in locating the herein described Land in relation to adjoining streets, natural boundaries<br>',\n",
       " 'and other land. Except to the extent a policy of title insurance is expressly modified by endorsement, if any, the Company does not insure<br>',\n",
       " 'dimensions, distances or acreage shown thereon</span><span class=\"ft4\">.<br>',\n",
       " '<hr>',\n",
       " '</BODY>',\n",
       " '</HTML>']"
      ]
     },
     "execution_count": 5,
     "metadata": {},
     "output_type": "execute_result"
    }
   ],
   "source": [
    "alldata"
   ]
  },
  {
   "cell_type": "code",
   "execution_count": 6,
   "metadata": {
    "collapsed": false
   },
   "outputs": [],
   "source": [
    "# makes a data frame out of the data \n",
    "raw_pdf = pd.DataFrame(alldata)"
   ]
  },
  {
   "cell_type": "code",
   "execution_count": 7,
   "metadata": {
    "collapsed": false
   },
   "outputs": [],
   "source": [
    "# finds the rows with blank data and fills them with Nan so they can be dropped, and drops them \n",
    "# (*note temporary commenting out because blank lines may be useful for grouping exceptions/requirements)\n",
    "# raw_pdf = raw_pdf[raw_pdf != '']\n",
    "# raw_pdf.dropna(inplace=True)"
   ]
  },
  {
   "cell_type": "code",
   "execution_count": 8,
   "metadata": {
    "collapsed": false
   },
   "outputs": [],
   "source": [
    "# lets reindex so that we don't have huge jumps in the index for dropped rows\n",
    "raw_pdf.set_index(np.arange(0,len(raw_pdf)),inplace = True)"
   ]
  },
  {
   "cell_type": "code",
   "execution_count": 9,
   "metadata": {
    "collapsed": false
   },
   "outputs": [],
   "source": [
    "# creating the list of headings to hunt for, hard-cording from the pdf, and using pandas tricks to get the last line.\n",
    "headings = ['SCHEDULE A','LEGAL DESCRIPTION','REQUIREMENTS', 'EXCEPTIONS' , 'NOTE',(raw_pdf[0][raw_pdf.index[-1]])]"
   ]
  },
  {
   "cell_type": "code",
   "execution_count": 10,
   "metadata": {
    "collapsed": false
   },
   "outputs": [],
   "source": [
    "# create a dataframe to store the index locations for the starting line of each section\n",
    "locations = [0]\n",
    "df_locations = pd.DataFrame(locations)"
   ]
  },
  {
   "cell_type": "code",
   "execution_count": 11,
   "metadata": {
    "collapsed": false
   },
   "outputs": [],
   "source": [
    "# run each heading in our list through a search, and place those start index locations into a dataframe\n",
    "for heading in headings:\n",
    "    df_locations[heading] = raw_pdf[raw_pdf[0].str.contains(heading)].index[0]"
   ]
  },
  {
   "cell_type": "code",
   "execution_count": 12,
   "metadata": {
    "collapsed": false
   },
   "outputs": [],
   "source": [
    "# some column labeling and cleanup, and sorting by order they appear in the pdf\n",
    "df_locations.drop(0,axis=1,inplace=True)\n",
    "df_locations = df_locations.rename({0:'start_line'}).transpose()\n",
    "df_locations.sort_values(by='start_line',inplace=True)"
   ]
  },
  {
   "cell_type": "code",
   "execution_count": 13,
   "metadata": {
    "collapsed": false
   },
   "outputs": [],
   "source": [
    "# shifting to a numeric index so it is easy to iterate over rows in Dataframe\n",
    "df_locations['sections'] = df_locations.index\n",
    "df_locations.reset_index(drop=True, inplace=True)"
   ]
  },
  {
   "cell_type": "code",
   "execution_count": 14,
   "metadata": {
    "collapsed": false
   },
   "outputs": [],
   "source": [
    "# creating the column indicating the ending line for each section of the pdf\n",
    "end = df_locations['start_line'][1:len(df_locations)].values\n",
    "end = np.append(end,df_locations['start_line'][len(df_locations)-1:len(df_locations)].values)\n",
    "df_locations['end_line'] = end"
   ]
  },
  {
   "cell_type": "code",
   "execution_count": 15,
   "metadata": {
    "collapsed": false
   },
   "outputs": [
    {
     "data": {
      "text/html": [
       "<div>\n",
       "<table border=\"1\" class=\"dataframe\">\n",
       "  <thead>\n",
       "    <tr style=\"text-align: right;\">\n",
       "      <th></th>\n",
       "      <th>start_line</th>\n",
       "      <th>sections</th>\n",
       "      <th>end_line</th>\n",
       "    </tr>\n",
       "  </thead>\n",
       "  <tbody>\n",
       "    <tr>\n",
       "      <th>0</th>\n",
       "      <td>9</td>\n",
       "      <td>SCHEDULE A</td>\n",
       "      <td>79</td>\n",
       "    </tr>\n",
       "    <tr>\n",
       "      <th>1</th>\n",
       "      <td>79</td>\n",
       "      <td>LEGAL DESCRIPTION</td>\n",
       "      <td>93</td>\n",
       "    </tr>\n",
       "    <tr>\n",
       "      <th>2</th>\n",
       "      <td>93</td>\n",
       "      <td>REQUIREMENTS</td>\n",
       "      <td>142</td>\n",
       "    </tr>\n",
       "    <tr>\n",
       "      <th>3</th>\n",
       "      <td>142</td>\n",
       "      <td>EXCEPTIONS</td>\n",
       "      <td>238</td>\n",
       "    </tr>\n",
       "    <tr>\n",
       "      <th>4</th>\n",
       "      <td>238</td>\n",
       "      <td>NOTE</td>\n",
       "      <td>243</td>\n",
       "    </tr>\n",
       "    <tr>\n",
       "      <th>5</th>\n",
       "      <td>243</td>\n",
       "      <td>&lt;/HTML&gt;</td>\n",
       "      <td>243</td>\n",
       "    </tr>\n",
       "  </tbody>\n",
       "</table>\n",
       "</div>"
      ],
      "text/plain": [
       "   start_line           sections  end_line\n",
       "0           9         SCHEDULE A        79\n",
       "1          79  LEGAL DESCRIPTION        93\n",
       "2          93       REQUIREMENTS       142\n",
       "3         142         EXCEPTIONS       238\n",
       "4         238               NOTE       243\n",
       "5         243            </HTML>       243"
      ]
     },
     "execution_count": 15,
     "metadata": {},
     "output_type": "execute_result"
    }
   ],
   "source": [
    "df_locations"
   ]
  },
  {
   "cell_type": "code",
   "execution_count": 16,
   "metadata": {
    "collapsed": false
   },
   "outputs": [
    {
     "name": "stdout",
     "output_type": "stream",
     "text": [
      "FormIs.html_df_SCHEDULE A\n",
      "FormIs.html_df_LEGAL DESCRIPTION\n",
      "FormIs.html_df_REQUIREMENTS\n",
      "FormIs.html_df_EXCEPTIONS\n",
      "FormIs.html_df_NOTE\n",
      "FormIs.html_df_HTML\n"
     ]
    }
   ],
   "source": [
    "# now we can use \"start_line\" and \"end_line\" to define slices of the raw_pdf Dataframe and make section-specific chunks\n",
    "# and output results to csv\n",
    "for index, row in df_locations.iterrows():\n",
    "    section = str(row[1]).strip(\"</>\")\n",
    "    string = (pdf_file + \"_\" + \"df\" + \"_\" + section)  \n",
    "    print string\n",
    "    string = raw_pdf[row[0]: row[2]]\n",
    "    string.to_csv(path_or_buf=(pdf_file + \"_\" + \"df\" + \"_\" + section + \".csv\"))"
   ]
  },
  {
   "cell_type": "code",
   "execution_count": 19,
   "metadata": {
    "collapsed": false
   },
   "outputs": [
    {
     "data": {
      "text/plain": [
       "'FormIs.html_df_REQUIREMENTS'"
      ]
     },
     "execution_count": 19,
     "metadata": {},
     "output_type": "execute_result"
    }
   ],
   "source": [
    "\"FormIs.html_df_REQUIREMENTS\"\n"
   ]
  },
  {
   "cell_type": "code",
   "execution_count": null,
   "metadata": {
    "collapsed": true
   },
   "outputs": [],
   "source": []
  }
 ],
 "metadata": {
  "anaconda-cloud": {},
  "kernelspec": {
   "display_name": "Python [conda root]",
   "language": "python",
   "name": "conda-root-py"
  },
  "language_info": {
   "codemirror_mode": {
    "name": "ipython",
    "version": 2
   },
   "file_extension": ".py",
   "mimetype": "text/x-python",
   "name": "python",
   "nbconvert_exporter": "python",
   "pygments_lexer": "ipython2",
   "version": "2.7.12"
  }
 },
 "nbformat": 4,
 "nbformat_minor": 1
}
