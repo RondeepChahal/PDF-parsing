{
 "cells": [
  {
   "cell_type": "code",
   "execution_count": 1,
   "metadata": {
    "collapsed": true
   },
   "outputs": [],
   "source": [
    "import os\n",
    "import re\n",
    "import pandas as pd\n",
    "from pandas import Series,DataFrame\n",
    "import numpy as np"
   ]
  },
  {
   "cell_type": "code",
   "execution_count": 2,
   "metadata": {
    "collapsed": false
   },
   "outputs": [],
   "source": [
    "alldata = []"
   ]
  },
  {
   "cell_type": "code",
   "execution_count": 3,
   "metadata": {
    "collapsed": false
   },
   "outputs": [],
   "source": [
    "# (using this as oppossed to native Pandas because txt doesn't injest easilly)\n",
    "pdf_file = 'FormIIs.html'\n",
    "pdf = open(pdf_file, \"r\")"
   ]
  },
  {
   "cell_type": "code",
   "execution_count": 4,
   "metadata": {
    "collapsed": false
   },
   "outputs": [],
   "source": [
    "# puts the data from the pdf into a list, skipping new line characters\n",
    "for line in pdf:\n",
    "    alldata.append(line.strip())"
   ]
  },
  {
   "cell_type": "code",
   "execution_count": 5,
   "metadata": {
    "collapsed": false
   },
   "outputs": [
    {
     "data": {
      "text/plain": [
       "['<!DOCTYPE HTML PUBLIC \"-//W3C//DTD HTML 4.01 Transitional//EN\"><HTML>',\n",
       " '<HEAD>',\n",
       " '<TITLE></TITLE>',\n",
       " '</HEAD>',\n",
       " '<BODY>',\n",
       " '<A name=1></a>American Land Title Association<br>',\n",
       " 'ALTA Commitment<br>',\n",
       " 'Adopted 6-17-06<br>',\n",
       " 'CHICAGO TITLE INSURANCE COMPANY </span><span class=\"ft5\">800-943-1196<br>',\n",
       " 'SCHEDULE A<br>',\n",
       " 'Loan No.:<br>',\n",
       " 'Title No.: NC2<br>',\n",
       " '1.<br>',\n",
       " 'Effective date: 9th day of March, 2017<br>',\n",
       " 'Issue Date: 03/17/2017<br>',\n",
       " 'This Title Insurance Commitment is good for 60 days from the effective date. If you close a transaction based on<br>',\n",
       " 'this Title Insurance Commitment without a title update, Chicago Title Insurance Company will not issue a Title<br>',\n",
       " 'Insurance Policy.<br>',\n",
       " '2.<br>',\n",
       " 'Policy (or Policies) to be issued:<br>',\n",
       " '(a)<br>',\n",
       " \"Owner's Policy 2006 Owner's Policy<br>\",\n",
       " 'Policy<br>',\n",
       " 'TBD<br>',\n",
       " 'Form<br>',\n",
       " 'Amount<br>',\n",
       " 'Proposed Insured:<br>',\n",
       " 'Policy Premium:<br>',\n",
       " '(Additional discounts may apply)<br>',\n",
       " '(b)<br>',\n",
       " 'Loan Policy 2006 Loan Policy Form<br>',\n",
       " 'Policy<br>',\n",
       " 'TBD<br>',\n",
       " 'Amount<br>',\n",
       " 'Proposed Insured:<br>',\n",
       " 'Policy Premium:<br>',\n",
       " '(Additional discounts may apply)<br>',\n",
       " '3.<br>',\n",
       " 'The estate or interest in the land described or referred to in this Commitment is:<br>',\n",
       " 'FEE SIMPLE<br>',\n",
       " 'The estate is subject to, and the Company does not insure title to, and excepts from the description of the land, coal,<br>',\n",
       " 'lignite, oil, gas and other minerals in, under and that may be produced from the land, together with all rights,<br>',\n",
       " 'privileges, and immunities relating thereto<br>',\n",
       " '<hr>',\n",
       " '<A name=2></a>American Land Title Association<br>',\n",
       " 'ALTA Commitment<br>',\n",
       " 'Adopted 6-17-06<br>',\n",
       " '4.<br>',\n",
       " 'Title to the Fee Simple estate or interest in the land is at the Effective Date vested in:<br>',\n",
       " '2014-1 IH BORROWER L.P., A DELAWARE LIMITED PARTNERSHIP<br>',\n",
       " 'Deed Type: Special Warranty Deed<br>',\n",
       " 'Grantors: THR NORTH CAROLINA II, L.P., A DELAWARE LIMITED PARTNERSHIP<br>',\n",
       " 'Grantees: 2014-1 IH BORROWER L.P., A DELAWARE LIMITED PARTNERSHIP<br>',\n",
       " 'Dated: May 30, 2014<br>',\n",
       " 'Recorded Date: June 2, 2014<br>',\n",
       " 'Consideration: $0.00<br>',\n",
       " 'BOOK: 29217<br>',\n",
       " 'PAGE: 507<br>',\n",
       " 'Instrument: 2014060808<br>',\n",
       " 'Deed Type: Warranty Deed<br>',\n",
       " 'Grantors: SHARON DENT AND JACK L. HARPER<br>',\n",
       " 'Grantees: THR NORTH CAROLINA, II, L.P.<br>',\n",
       " 'Dated: December 4, 2012<br>',\n",
       " 'Recorded Date: December 4, 2012<br>',\n",
       " 'Consideration: $0.00<br>',\n",
       " 'BOOK: 27876/801<br>',\n",
       " 'PAGE:<br>',\n",
       " 'Instrument:<br>',\n",
       " 'Deed Type: Warranty Deed<br>',\n",
       " 'Grantors: D.R. HORTON, INC.-TORREY A DELAWARE CORPORATION<br>',\n",
       " 'Grantees: SHARON E. DENT, UNMARRIED<br>',\n",
       " 'Dated: June 29, 1999<br>',\n",
       " 'Recorded Date: June 30, 1999<br>',\n",
       " 'Consideration: $0.00<br>',\n",
       " 'BOOK: 10586/156<br>',\n",
       " 'PAGE:<br>',\n",
       " 'Instrument: 1999116528<br>',\n",
       " '5.<br>',\n",
       " 'The land referred to in this Commitment is described as follows:<br>',\n",
       " 'SEE EXHIBIT \"A\" ATTACHED HERETO AND MADE A PART HEREOF<br>',\n",
       " 'Countersigned: _______________________________<br>',\n",
       " 'Authorized Signatory<br>',\n",
       " '<hr>',\n",
       " '<A name=3></a>CHICAGO TITLE INSURANCE COMPANY </span><span class=\"ft4\">800-943-1196<br>',\n",
       " 'Title No NC2<br>',\n",
       " 'LEGAL DESCRIPTION<br>',\n",
       " 'EXHIBIT \"A\"<br>',\n",
       " 'THE LAND REFERRED TO HEREIN BELOW IS SITUATED IN THE COUNTY OF MECKLENBURG, STATE OF NORTH<br>',\n",
       " 'CAROLINA, AND IS DESCRIBED AS FOLLOWS:<br>',\n",
       " 'BEING ALL OF LOT 2 OF FOX GLEN, MAP 1, AS SHOWN ON A MAP RECORDED IN MAP BOOK 28 AT PAGE<br>',\n",
       " '115, A REVISION OF MAP BOOK 27 AT PAGE 418, IN THE MECKLENBURG COUNTY PUBLIC REGISTRY.<br>',\n",
       " 'Parcel ID: 02709229<br>',\n",
       " 'Commonly known as 11807 Fox Glen Road, Charlotte, NC 28269<br>',\n",
       " 'However, by showing this address no additional coverage is provided<br>',\n",
       " '<hr>',\n",
       " '<A name=4></a>CHICAGO TITLE INSURANCE COMPANY </span><span class=\"ft3\">800-943-1196<br>',\n",
       " 'Title No. NC2<br>',\n",
       " 'SCHEDULE B \\xad SECTION I<br>',\n",
       " 'REQUIREMENTS<br>',\n",
       " 'The following requirements must be met:<br>',\n",
       " '1) Pay the agreed amounts for the interest in the land and/or the mortgage to be insured.<br>',\n",
       " '2) Pay us the premiums, fees and charges for the policy.<br>',\n",
       " '3) If the insured premises include a mobile or manufactured home that has not been permanently affixed to the<br>',\n",
       " 'premises, Company will not issue a final policy of title insurance and any and all obligations created under this<br>',\n",
       " 'commitment will be void.<br>',\n",
       " '4) Instrument(s) creating the estate or interest (Title) to be insured, executed, delivered and recorded in the Public<br>',\n",
       " 'Records of the appropriate county.<br>',\n",
       " '5) You must tell us in writing the name of anyone not referred to in this Commitment who will get an interest in the<br>',\n",
       " 'land or who will make a loan on the land. We may then make additional requirements or exceptions.<br>',\n",
       " '6) Pay all taxes, charges, and assessments affecting the land that are due and payable.<br>',\n",
       " \"7) Duly executed Title/Owner's Affidavit.<br>\",\n",
       " '8) Documents for recordation pertinent to this transaction are required to be presented for recording in the format<br>',\n",
       " 'required by the appropriate county recording jurisdiction<br>',\n",
       " '9) Tax Information to follow as Exhibit B.<br>',\n",
       " '10) A judgment search has been performed in the county land records, for buyer(s) 2013-2 IH BORROWER, LP and<br>',\n",
       " 'seller(s) and 2014-1 IH BORROWER LP, A DELAWARE LIMITED PARTNERSHIP. Results of this search for<br>',\n",
       " 'the name of buyer(s) 2013-2 IH BORROWER, LP and seller(s) and 2014-1 IH BORROWER LP, A DELAWARE<br>',\n",
       " 'LIMITED PARTNERSHIP will be named in this commitment, if any. (All results herein are for information<br>',\n",
       " 'purposes only and are not warranted for content, accuracy or any other implied or explicit purpose)<br>',\n",
       " '11) Company requires a Warranty Deed for the consideration amount of $0.00 from 2014-1 IH BORROWER LP, A<br>',\n",
       " 'DELAWARE LIMITED PARTNERSHIP, to 2013-2 IH BORROWER, LP, be executed, and delivered in<br>',\n",
       " 'recordable form.<br>',\n",
       " '12) Company requires a new Mortgage, deed of trust, security instrument in the amount of $0.00 from 2013-2 IH<br>',\n",
       " 'BORROWER, LP to German American Capital Corporation, be executed, and delivered in recordable form.<br>',\n",
       " '13) In accordance with the terms and provisions of the Commitment POLICY jacket, this Commitment POLICY shall<br>',\n",
       " 'be effective only when the amount of the insurance to be committed has been inserted in Schedule A by the<br>',\n",
       " 'Company.<br>',\n",
       " '14) Obtain and File Satisfactory resolution of the following matters:<br>',\n",
       " '<hr>',\n",
       " '<A name=5></a>1. No bankruptcy filing on behalf of 2013-2 IH BORROWER, LP AND THR NORTH CAROLINA, II, L.P.,<br>',\n",
       " 'Debtor, in the State of NC appear of record. Any claim caused by or arising out of any bankruptcy proceeding<br>',\n",
       " 'that was not disclosed by filed notice from the Federal District Court, for the State of NC Bankruptcy Divisions,<br>',\n",
       " 'is hereby excluded from coverage. (All results herein are for information purposes only and are not warranted<br>',\n",
       " 'for content, accuracy or any other implied or explicit purpose)<br>',\n",
       " '2. Company requires the payment of delinquent and/or outstanding taxes.<br>',\n",
       " '3. Company requires evidence of satisfaction/release or subordination of a Open/Line of Credit Deed of Trust<br>',\n",
       " 'from 2014-1 IH BORROWER, L.P., A DELAWARE LIMITED PARTNERSHIP (borrower) dated May 30,<br>',\n",
       " '2014 and recorded on June 2, 2014 in (book) 29217 (page) 597 (instrument) 2014060809, of the official<br>',\n",
       " 'property records of MECKLENBURG County, NORTH CAROLINA in the amount of $993,738,000.00 and in<br>',\n",
       " 'favor of GERMAN AMERICAN CAPITAL CORPORATION, A MARYLAND CORPORATION (lender).<br>',\n",
       " 'TRUSTEE, as trustee CHICAGO TITLE INSURANCE COMPANY.(Company must be provided with<br>',\n",
       " 'executed copy of revolving credit/equity line account termination request signed and dated by all borrowers, in<br>',\n",
       " 'addition to satisfaction or release of any/all open-end Mortgages/Deeds of Trust noted herein.)<br>',\n",
       " '14) If coverage is to include the priority as of the date of recording of the insured deed of trust for advances made after<br>',\n",
       " 'recording, the deed of trust must include notice that it will secure future obligations (including revolving line of credit, if<br>',\n",
       " 'applicable), state the maximum principal amount and, as applicable, state either (1) that all future obligations must be<br>',\n",
       " 'incurred within 30 years from the date thereof (in compliance with N.C.G.S. 45-67 et seq.) for future advance or<br>',\n",
       " 'construction loan transactions or (2) that it secures an equity line of credit and is governed by the provisions of Chapter<br>',\n",
       " '45, Article 9 of the North Carolina General Statutes (N.C.G.S. 45-81 et seq.) for an equity line of credit.<br>',\n",
       " '(a) 14-6 For issuance of ALTA Endorsement Form 14-06 (Future Advance-Priority) (Adopted 6/17/06):<br>',\n",
       " 'Verification that the insured deed of trust contains notice that it will secure future obligations (including revolving line<br>',\n",
       " 'of credit, if applicable), states the maximum principal amount and, as applicable, states either (1) that all future<br>',\n",
       " 'obligations must be incurred within 30 years from the date thereof (in compliance with NCGS 45-67 et seq.) for future<br>',\n",
       " 'advance or construction loan transactions or (2) that it secures an equity line of credit and is governed by the provisions<br>',\n",
       " 'of Chapter 45, Article 9 of the North Carolina General Statutes (NCGS 45-81 et seq.) for an equity line of credit.<br>',\n",
       " '(b)For issuance of ALTA Endorsement Form 14.2-06 (Future Advance-Letter of Credit) (Revised 2/28/09): (1)<br>',\n",
       " 'Verification that the insured deed of trust contains notice that it will secure future obligations (including revolving line<br>',\n",
       " 'of credit, if applicable), states the maximum principal amount and, as applicable, states either (a) that all future<br>',\n",
       " 'obligations must be incurred within 30 years from the date thereof (in compliance with NCGS 45-67 et seq.) for future<br>',\n",
       " 'advance or construction loan transactions or (b) that it secures an equity line of credit and is governed by the provisions<br>',\n",
       " 'of Chapter 45, Article 9 of the North Carolina General Statutes (NCGS 45-81 et seq.) for an equity line of credit; and (2)<br>',\n",
       " 'receipt of a copy of the Letter of Credit and verification that (a) the Letter of Credit has been issued and fully executed<br>',\n",
       " 'prior to or simultaneously with closing and recording of the insured deed of trust and (b) the insured deed of trust<br>',\n",
       " 'adequately references and incorporates the terms of the Letter of Credit.<br>',\n",
       " '(c) For issuance of ALTA Endorsement Form 14.3-06 (Future Advance-Reverse Mortgage) (Adopted 6/17/06):<br>',\n",
       " 'Verification (1) that the insured deed of trust contains notice that it is a reverse mortgage and secures future obligations<br>',\n",
       " '(including revolving line of credit, if applicable), states the maximum principal amount and, as applicable, states either<br>',\n",
       " '(a) that all future obligations must be incurred within 30 years from the date thereof (in compliance with NCGS 45-67 et<br>',\n",
       " 'seq.) for future advance or construction loan transactions or (b) that it secures an equity line of credit and is governed by<br>',\n",
       " 'the provisions of Chapter 45, Article 9 of the North Carolina General Statutes (NCGS 45-81 et seq.) for an equity line of<br>',\n",
       " 'credit; and (2) that mortgagors are at least 62 years of age as of Date of Policy. NOTE: If the deed of trust to be insured<br>',\n",
       " 'is other than a HUD Home Equity Conversion Mortgage (HECM) or Fannie Mae HomeKeeper\\xae security instrument,<br>',\n",
       " 'attorney should contact Company prior to closing this transaction.<br>',\n",
       " '(d) EFADT<br>',\n",
       " 'For issuance of Future Advance Endorsement: Verification that the insured deed of trust contains<br>',\n",
       " 'notice that it will secure future advances (including revolving line of credit, if applicable), states the maximum principal<br>',\n",
       " 'amount and, as applicable, states either (1) that all advances must be made within 30 years from the date thereof (in<br>',\n",
       " 'compliance with N.C.G.S. 45-67 et seq.) for future advance or construction loan transactions or (2) that it secures an<br>',\n",
       " 'equity line of credit and that it is governed by the provisions of Chapter 45, Article 9 of the North Carolina General<br>',\n",
       " 'Statutes (N.C.G.S. 45-81 et seq.) for an equity line of credit.<br>',\n",
       " 'EFA<br>',\n",
       " 'For issuance of Future Advance Mortgage Endorsement: (a) Verification that advance is secured by and<br>',\n",
       " 'has priority based on original recording of deed of trust, pursuant to G.S. 45-67 et seq., stating (i) that it is given<br>',\n",
       " '<hr>',\n",
       " '<A name=6></a>wholly/partly to secure future obligations which may be incurred thereunder, (ii) the maximum principal amount which<br>',\n",
       " 'may be secured thereby at any one time, and (iii) the period within which such future obligations may be incurred,<br>',\n",
       " 'which period of time shall not extend more than 30 years beyond the date of the security instrument; and (b) attorney<br>',\n",
       " 'certification of title through and including proposed effective date of endorsement. Any relevant matters shown therein<br>',\n",
       " 'will be included in the final Endorsement to be issued hereunder.<br>',\n",
       " '15) Company requires spousal joinder to the security instrument to be insured under this commitment to insure.<br>',\n",
       " 'Company will require joinder to the security instrument or waiver of homestead, community property, dower, and/or<br>',\n",
       " 'courtesy should the state allow this waiver to be made by separate instrument.<br>',\n",
       " '<hr>',\n",
       " '<A name=7></a>CHICAGO TITLE INSURANCE COMPANY </span><span class=\"ft4\">800-943-1196<br>',\n",
       " 'Title No NC2<br>',\n",
       " 'SCHEDULE B \\xad SECTION II<br>',\n",
       " 'EXCEPTIONS<br>',\n",
       " 'Schedule B of the policy or policies to be issued will contain exceptions to the following matters unless the same are<br>',\n",
       " 'disposed of to the satisfaction of the Company:<br>',\n",
       " '1.<br>',\n",
       " 'Defects, liens, encumbrances, adverse claims or other matters, if any, created, first appearing in the public records<br>',\n",
       " 'or attaching subsequent to the Effective Date but prior to the date the proposed Insured acquires for value of record<br>',\n",
       " 'the estate or interest or mortgage thereon covered by this Commitment.<br>',\n",
       " '2.<br>',\n",
       " 'Any lien, or right to alien, for services, labor or material heretofore or hereafter furnished, imposed by law and not<br>',\n",
       " 'shown by the public records.<br>',\n",
       " '3.<br>',\n",
       " 'Any encroachment, conflicts in boundary lines, discrepancies, easements, measurement, encumbrance, violation,<br>',\n",
       " 'variation, adverse circumstance or other state of facts affecting the title that would be disclosed by an accurate and<br>',\n",
       " 'complete survey of the land. The term \"encroachment\" includes encroachments of existing improvements located<br>',\n",
       " 'on the land onto adjoining land, and encroachments onto the land of existing improvements located on adjoining<br>',\n",
       " 'land.<br>',\n",
       " '4.<br>',\n",
       " 'The exact acreage or square footage of the premises will not be insured.<br>',\n",
       " '5.<br>',\n",
       " 'Rights, facts, interests or claims of present tenants, lessees or parties in possession which are not shown by the<br>',\n",
       " 'Public Records, but which could be ascertained by an inspection of said Land or by making inquiry of persons in<br>',\n",
       " 'possession thereof.<br>',\n",
       " '6.<br>',\n",
       " 'Streams, riparian rights, littoral rights and the title to any filled-in-lands.<br>',\n",
       " '7.<br>',\n",
       " 'Taxes or special assessments which are not shown as existing liens by the public records.<br>',\n",
       " '8.<br>',\n",
       " 'Covenants, conditions and restrictions and other instruments recorded in the public records and purporting to<br>',\n",
       " 'impose a transfer fee or conveyance fee payable upon the conveyance of a interest in real property or payable for<br>',\n",
       " 'the right to make or accept such a transfer, and any and all fees, liens or charges, whether recorded or unrecorded, if<br>',\n",
       " 'any, currently due payable or that will become due or payable, and any other rights deriving therefrom, that are<br>',\n",
       " 'assessed pursuant thereto.<br>',\n",
       " '9.<br>',\n",
       " 'Any easements or servitudes not appearing in the public records.<br>',\n",
       " '10.<br>',\n",
       " 'Any lease, grant, exception or reservation of minerals or mineral rights appearing in the public records.<br>',\n",
       " '11.<br>',\n",
       " \"Homeowner's or other association dues, assessments or fees for which no notice of delinquency, lien, claim of lien<br>\",\n",
       " 'or assessment has been filed of record in the real property records.<br>',\n",
       " '12.<br>',\n",
       " 'Any matters listed as requirements on Schedule B-I that are not resolved to the satisfaction of Company will be<br>',\n",
       " 'shown as an exception on final policy.<br>',\n",
       " '13.<br>',\n",
       " 'Any lien for service, installation, connection, maintenance, tap, capacity, or construction or similar charges for<br>',\n",
       " 'sewer, water, electricity, natural gas or other utilities, or for garbage collection and disposal by any utility service<br>',\n",
       " 'provider or authority that delivers such services and levies such charges, not shown as an existing lien by the Public<br>',\n",
       " 'Records.<br>',\n",
       " '<hr>',\n",
       " '<A name=8></a>14.<br>',\n",
       " 'Company will not issue a policy to the proposed insured(s) if the contemplated transaction involves a Short Sale. A<br>',\n",
       " 'short sale is defined as any sale or refinance transaction where the current mortgagee(s) or beneficiary(ies) of a deed<br>',\n",
       " 'of trust have agreed to satisfy/reconvey their interest for less than the full amount owed under the mortgage/deed of<br>',\n",
       " \"trust. It is the insured's obligation to notify Company if this transaction involves Short Sale.<br>\",\n",
       " '15)<br>',\n",
       " 'RESTRICTIVE COVENANTS BOOK/PAGE NO. 8770/618<br>',\n",
       " '16) BUILDING RESTRICTION LINES, EASEMENTS, AND ANY OTHER FACTS SHOWN ON SUBDIVISION MAP<br>',\n",
       " 'RECORDED IN BOOK 27, PAGE 883, BOOK 28, PAGE 115 AND BOOK 27, PAGE 408, MECKLENBURG<br>',\n",
       " 'COUNTY PUBLIC REGISTRY.<br>',\n",
       " '17) TITLE TO THAT PORTION OF THE PROPERTY WITHIN THE BOUNDS OF ANY ROADS OR HIGHWAYS.<br>',\n",
       " '18) TERMS,<br>',\n",
       " 'PROVISIONS,<br>',\n",
       " 'COVENANTS,<br>',\n",
       " 'CONDITIONS,<br>',\n",
       " 'RESTRICTIONS,<br>',\n",
       " 'EASEMENTS,<br>',\n",
       " 'CHARGES,<br>',\n",
       " 'ASSESSMENTS AND LIENS PROVIDED IN THE COVENANTS, CONDITIONS AND RESTRICTIONS<br>',\n",
       " 'RECORDED IN BOOK 8670, PAGE 711 AND BOOK 9326, PAGE 607 MECKLENBURG COUNTY REGISTRY,<br>',\n",
       " 'BUT OMITTING ANY COVENANT, CONDITION OR RESTRICTION, IF ANY, BASED ON RACE, COLOR,<br>',\n",
       " 'RELIGION, SEX, HANDICAP, FAMILIAL STATUS, OR NATIONAL ORIGIN UNLESS AND ONLY TO THE<br>',\n",
       " 'EXTENT THAT THE COVENANT, CONDITION OR RESTRICTION (A) IS EXEMPT UNDER TITLE 42 OF THE<br>',\n",
       " 'UNITED STATES CODE, OR (B) RELATES TO HANDICAP, BUT DOES NOT DISCRIMINATE AGAINST<br>',\n",
       " 'HANDICAPPED PERSONS.<br>',\n",
       " '19) NOTICE OF ADOPTION OF ROADWAY CORRIDOR OFFICIAL MAP RE NORTH CAROLINA OUTER LOOP<br>',\n",
       " 'AS RECORDED IN BOOK 7772, PAGE 505 AND RE-RECORDED IN BOOK 7845, PAGE 67, MECKLENBURG<br>',\n",
       " 'COUNTY REGISTRY.<br>',\n",
       " 'NOTE: Any map/plat is provided as a courtesy as an aid in locating the herein described Land in relation to adjoining streets, natural boundaries<br>',\n",
       " 'and other land. Except to the extent a policy of title insurance is expressly modified by endorsement, if any, the Company does not insure<br>',\n",
       " 'dimensions, distances or acreage shown thereon</span><span class=\"ft4\">.<br>',\n",
       " '<hr>',\n",
       " '</BODY>',\n",
       " '</HTML>']"
      ]
     },
     "execution_count": 5,
     "metadata": {},
     "output_type": "execute_result"
    }
   ],
   "source": [
    "alldata"
   ]
  },
  {
   "cell_type": "code",
   "execution_count": 6,
   "metadata": {
    "collapsed": false
   },
   "outputs": [],
   "source": [
    "# makes a data frame out of the data \n",
    "raw_pdf = pd.DataFrame(alldata)"
   ]
  },
  {
   "cell_type": "code",
   "execution_count": 7,
   "metadata": {
    "collapsed": false
   },
   "outputs": [],
   "source": [
    "# finds the rows with blank data and fills them with Nan so they can be dropped, and drops them \n",
    "# (*note temporary commenting out because blank lines may be useful for grouping exceptions/requirements)\n",
    "# raw_pdf = raw_pdf[raw_pdf != '']\n",
    "# raw_pdf.dropna(inplace=True)"
   ]
  },
  {
   "cell_type": "code",
   "execution_count": 8,
   "metadata": {
    "collapsed": false
   },
   "outputs": [],
   "source": [
    "# lets reindex so that we don't have huge jumps in the index for dropped rows\n",
    "raw_pdf.set_index(np.arange(0,len(raw_pdf)),inplace = True)"
   ]
  },
  {
   "cell_type": "code",
   "execution_count": 9,
   "metadata": {
    "collapsed": false
   },
   "outputs": [],
   "source": [
    "# creating the list of headings to hunt for, hard-cording from the pdf, and using pandas tricks to get the last line.\n",
    "try:\n",
    "    raw_pdf[raw_pdf[0].str.match('LEGAL DESCRIPTION')].index[0]\n",
    "except:\n",
    "    try:\n",
    "        raw_pdf[raw_pdf[0].str.match('EXCEPTIONS FROM COVERAGE')].index[0]\n",
    "    except:\n",
    "        print \"wut\"\n",
    "    else:\n",
    "        headings = ['SCHEDULE A','EXCEPTIONS FROM COVERAGE','SCHEDULE C', 'SCHEDULE D' ,(raw_pdf[0][raw_pdf.index[-1]])]\n",
    "else:\n",
    "    headings = ['SCHEDULE A','LEGAL DESCRIPTION','REQUIREMENTS', 'EXCEPTIONS' , (raw_pdf[0][raw_pdf.index[-1]])]"
   ]
  },
  {
   "cell_type": "code",
   "execution_count": 10,
   "metadata": {
    "collapsed": false
   },
   "outputs": [],
   "source": [
    "# create a dataframe to store the index locations for the starting line of each section\n",
    "locations = [0]\n",
    "df_locations = pd.DataFrame(locations)"
   ]
  },
  {
   "cell_type": "code",
   "execution_count": 11,
   "metadata": {
    "collapsed": false
   },
   "outputs": [],
   "source": [
    "# run each heading in our list through a search, and place those start index locations into a dataframe\n",
    "for heading in headings:\n",
    "    df_locations[heading] = raw_pdf[raw_pdf[0].str.match(heading)].index[0]"
   ]
  },
  {
   "cell_type": "code",
   "execution_count": 12,
   "metadata": {
    "collapsed": false
   },
   "outputs": [],
   "source": [
    "# some column labeling and cleanup, and sorting by order they appear in the pdf\n",
    "df_locations.drop(0,axis=1,inplace=True)\n",
    "df_locations = df_locations.rename({0:'start_line'}).transpose()\n",
    "df_locations.sort_values(by='start_line',inplace=True)"
   ]
  },
  {
   "cell_type": "code",
   "execution_count": 13,
   "metadata": {
    "collapsed": false
   },
   "outputs": [],
   "source": [
    "# shifting to a numeric index so it is easy to iterate over rows in Dataframe\n",
    "df_locations['sections'] = df_locations.index\n",
    "df_locations.reset_index(drop=True, inplace=True)"
   ]
  },
  {
   "cell_type": "code",
   "execution_count": 14,
   "metadata": {
    "collapsed": false
   },
   "outputs": [],
   "source": [
    "# creating the column indicating the ending line for each section of the pdf\n",
    "end = df_locations['start_line'][1:len(df_locations)].values\n",
    "end = np.append(end,df_locations['start_line'][len(df_locations)-1:len(df_locations)].values)\n",
    "df_locations['end_line'] = end"
   ]
  },
  {
   "cell_type": "code",
   "execution_count": 15,
   "metadata": {
    "collapsed": false
   },
   "outputs": [
    {
     "data": {
      "text/html": [
       "<div>\n",
       "<table border=\"1\" class=\"dataframe\">\n",
       "  <thead>\n",
       "    <tr style=\"text-align: right;\">\n",
       "      <th></th>\n",
       "      <th>start_line</th>\n",
       "      <th>sections</th>\n",
       "      <th>end_line</th>\n",
       "    </tr>\n",
       "  </thead>\n",
       "  <tbody>\n",
       "    <tr>\n",
       "      <th>0</th>\n",
       "      <td>9</td>\n",
       "      <td>SCHEDULE A</td>\n",
       "      <td>85</td>\n",
       "    </tr>\n",
       "    <tr>\n",
       "      <th>1</th>\n",
       "      <td>85</td>\n",
       "      <td>LEGAL DESCRIPTION</td>\n",
       "      <td>98</td>\n",
       "    </tr>\n",
       "    <tr>\n",
       "      <th>2</th>\n",
       "      <td>98</td>\n",
       "      <td>REQUIREMENTS</td>\n",
       "      <td>196</td>\n",
       "    </tr>\n",
       "    <tr>\n",
       "      <th>3</th>\n",
       "      <td>196</td>\n",
       "      <td>EXCEPTIONS</td>\n",
       "      <td>277</td>\n",
       "    </tr>\n",
       "    <tr>\n",
       "      <th>4</th>\n",
       "      <td>277</td>\n",
       "      <td>&lt;/HTML&gt;</td>\n",
       "      <td>277</td>\n",
       "    </tr>\n",
       "  </tbody>\n",
       "</table>\n",
       "</div>"
      ],
      "text/plain": [
       "   start_line           sections  end_line\n",
       "0           9         SCHEDULE A        85\n",
       "1          85  LEGAL DESCRIPTION        98\n",
       "2          98       REQUIREMENTS       196\n",
       "3         196         EXCEPTIONS       277\n",
       "4         277            </HTML>       277"
      ]
     },
     "execution_count": 15,
     "metadata": {},
     "output_type": "execute_result"
    }
   ],
   "source": [
    "df_locations"
   ]
  },
  {
   "cell_type": "code",
   "execution_count": 16,
   "metadata": {
    "collapsed": false
   },
   "outputs": [
    {
     "name": "stdout",
     "output_type": "stream",
     "text": [
      "FormIIs.html_df_SCHEDULE A\n",
      "FormIIs.html_df_LEGAL DESCRIPTION\n",
      "FormIIs.html_df_REQUIREMENTS\n",
      "FormIIs.html_df_EXCEPTIONS\n",
      "FormIIs.html_df_HTML\n"
     ]
    }
   ],
   "source": [
    "# now we can use \"start_line\" and \"end_line\" to define slices of the raw_pdf Dataframe and make section-specific chunks\n",
    "# and output results to csv\n",
    "for index, row in df_locations.iterrows():\n",
    "    section = str(row[1]).strip(\"</>\")\n",
    "    string = (pdf_file + \"_\" + \"df\" + \"_\" + section)  \n",
    "    print string\n",
    "    string = raw_pdf[row[0]: row[2]]\n",
    "    string.to_csv(path_or_buf=(pdf_file + \"_\" + \"df\" + \"_\" + section + \".csv\"))"
   ]
  }
 ],
 "metadata": {
  "anaconda-cloud": {},
  "kernelspec": {
   "display_name": "Python [conda root]",
   "language": "python",
   "name": "conda-root-py"
  },
  "language_info": {
   "codemirror_mode": {
    "name": "ipython",
    "version": 2
   },
   "file_extension": ".py",
   "mimetype": "text/x-python",
   "name": "python",
   "nbconvert_exporter": "python",
   "pygments_lexer": "ipython2",
   "version": "2.7.12"
  }
 },
 "nbformat": 4,
 "nbformat_minor": 1
}
