{
 "cells": [
  {
   "cell_type": "code",
   "execution_count": 1,
   "metadata": {
    "collapsed": true
   },
   "outputs": [],
   "source": [
    "import pandas as pd\n",
    "from glob import glob"
   ]
  },
  {
   "cell_type": "code",
   "execution_count": 2,
   "metadata": {},
   "outputs": [
    {
     "name": "stdout",
     "output_type": "stream",
     "text": [
      "/Users/dohyunshin/states_title/FormIIs.html_df_EXCEPTIONS.csv\n",
      "/Users/dohyunshin/states_title/FormIIs.html_df_REQUIREMENTS.csv\n",
      "/Users/dohyunshin/states_title/FormIs.html_df_EXCEPTIONS.csv\n",
      "/Users/dohyunshin/states_title/FormIs.html_df_REQUIREMENTS.csv\n",
      "/Users/dohyunshin/states_title/Texass.html_df_EXCEPTIONS FROM COVERAGE.csv\n",
      "/Users/dohyunshin/states_title/Texass.html_df_SCHEDULE C.csv\n",
      "/Users/dohyunshin/states_title/Texass.html_df_SCHEDULE D.csv\n"
     ]
    }
   ],
   "source": [
    "PATH_TO_CSVS = \"/Users/dohyunshin/states_title/*.csv\"\n",
    "files = glob(PATH_TO_CSVS)\n",
    "for file in files:\n",
    "    print(file)"
   ]
  },
  {
   "cell_type": "code",
   "execution_count": 3,
   "metadata": {
    "collapsed": true
   },
   "outputs": [],
   "source": [
    "def remove_html_tag(line):\n",
    "    if '<' in line[:2]:\n",
    "        for i in range(len(line)-1):\n",
    "            if line[i].isdigit() and line[i+1] in {'.', ')'}:\n",
    "                if line[i-1].isdigit():\n",
    "                    return line[i-1:]\n",
    "                else:\n",
    "                    return line[i:]\n",
    "        return line\n",
    "    else:\n",
    "        return line\n",
    "\n",
    "def find_lone_numbers(line):\n",
    "    if line.isdigit():\n",
    "        return line\n",
    "    # remove <br> tag at the end\n",
    "    elif len(line) in {5,6} and line[:-4].isdigit():\n",
    "        return line[:-4] + '.'\n",
    "    else:\n",
    "        return line\n",
    "\n",
    "def get_data(df):\n",
    "    lines = []\n",
    "    for line in df:\n",
    "        line = remove_html_tag(line)\n",
    "        line = find_lone_numbers(line)\n",
    "        if set(line[:4]).intersection({'.', ')'}):\n",
    "            if line[0] == '\"':\n",
    "                lines.append(line[1:])\n",
    "            else:\n",
    "                lines.append(line)\n",
    "        else:\n",
    "            if len(lines) == 0:\n",
    "                pass\n",
    "            else:\n",
    "                lines[-1] = lines[-1] + line\n",
    "    \n",
    "    return lines"
   ]
  },
  {
   "cell_type": "code",
   "execution_count": 4,
   "metadata": {},
   "outputs": [],
   "source": [
    "for file in files:\n",
    "    df = pd.read_csv(file, encoding=\"ISO-8859-1\")['0']\n",
    "    converted_df = get_data(df)\n",
    "    pd.Series(converted_df).to_csv(\"converted_\"+file.split('/')[-1], index=False)"
   ]
  }
 ],
 "metadata": {
  "anaconda-cloud": {},
  "kernelspec": {
   "display_name": "Python 3",
   "language": "python",
   "name": "python3"
  },
  "language_info": {
   "codemirror_mode": {
    "name": "ipython",
    "version": 3
   },
   "file_extension": ".py",
   "mimetype": "text/x-python",
   "name": "python",
   "nbconvert_exporter": "python",
   "pygments_lexer": "ipython3",
   "version": "3.6.0"
  }
 },
 "nbformat": 4,
 "nbformat_minor": 1
}
