{
 "cells": [
  {
   "cell_type": "code",
   "execution_count": 1,
   "metadata": {
    "collapsed": true
   },
   "outputs": [],
   "source": [
    "import os\n",
    "import re\n",
    "import pandas as pd\n",
    "from pandas import Series,DataFrame\n",
    "import numpy as np"
   ]
  },
  {
   "cell_type": "code",
   "execution_count": 2,
   "metadata": {
    "collapsed": false
   },
   "outputs": [],
   "source": [
    "alldata = []"
   ]
  },
  {
   "cell_type": "code",
   "execution_count": 3,
   "metadata": {
    "collapsed": false
   },
   "outputs": [],
   "source": [
    "# (using this as oppossed to native Pandas because txt doesn't injest easilly)\n",
    "pdf_file = 'Texass.html'\n",
    "pdf = open(pdf_file, \"r\")"
   ]
  },
  {
   "cell_type": "code",
   "execution_count": 4,
   "metadata": {
    "collapsed": false
   },
   "outputs": [],
   "source": [
    "# puts the data from the pdf into a list, skipping new line characters\n",
    "for line in pdf:\n",
    "    alldata.append(line.strip())"
   ]
  },
  {
   "cell_type": "code",
   "execution_count": 5,
   "metadata": {
    "collapsed": false
   },
   "outputs": [
    {
     "data": {
      "text/plain": [
       "['<!DOCTYPE HTML PUBLIC \"-//W3C//DTD HTML 4.01 Transitional//EN\"><HTML>',\n",
       " '<HEAD>',\n",
       " '<TITLE></TITLE>',\n",
       " '</HEAD>',\n",
       " '<BODY>',\n",
       " '<A name=1></a>Schedule A<br>',\n",
       " 'COMMITMENT FOR TITLE INSURANCE<br>',\n",
       " 'Issued By<br>',\n",
       " 'Chicago Title Insurance Company<br>',\n",
       " 'SCHEDULE A<br>',\n",
       " 'Effective Date: October 6, 2015<br>',\n",
       " 'GF No. FRE<br>',\n",
       " 'Issued: 10/28/2015<br>',\n",
       " '1.<br>',\n",
       " 'The policy or policies to be issued are:<br>',\n",
       " '(a)<br>',\n",
       " \"OWNER'S POLICY OF TITLE INSURANCE (Form T-1)<br>\",\n",
       " '(Not applicable for improved one-to-four family residential real estate)<br>',\n",
       " 'Policy Amount:<br>',\n",
       " 'PROPOSED INSURED:<br>',\n",
       " '(b)<br>',\n",
       " \"TEXAS RESIDENTIAL OWNER'S POLICY OF TITLE INSURANCE<br>\",\n",
       " '- ONE-TO-FOUR FAMILY RESIDENCES (Form T-1R)<br>',\n",
       " 'Policy Amount:<br>',\n",
       " 'PROPOSED INSURED:<br>',\n",
       " '(c)<br>',\n",
       " 'LOAN POLICY OF TITLE INSURANCE (Form T-2)<br>',\n",
       " 'Policy Amount:<br>',\n",
       " 'PROPOSED INSURED:<br>',\n",
       " 'Proposed Borrower:<br>',\n",
       " '(d)<br>',\n",
       " 'TEXAS SHORT FORM RESIDENTIAL LOAN POLICY OF TITLE INSURANCE (Form T-2R)<br>',\n",
       " 'Policy Amount:<br>',\n",
       " 'PROPOSED INSURED:<br>',\n",
       " 'Proposed Borrower:<br>',\n",
       " '(e)<br>',\n",
       " 'LOAN TITLE POLICY BINDER ON INTERIM CONSTRUCTION LOAN (Form T-13)<br>',\n",
       " 'Binder Amount:<br>',\n",
       " 'PROPOSED INSURED:<br>',\n",
       " 'Proposed Borrower:<br>',\n",
       " '(f)<br>',\n",
       " 'OTHER<br>',\n",
       " 'Policy Amount:<br>',\n",
       " 'PROPOSED INSURED:<br>',\n",
       " '2.<br>',\n",
       " 'The interest in the land covered by this Commitment POLICY is: - FEE SIMPLE<br>',\n",
       " '3.<br>',\n",
       " 'Record title to the land on the Effective Date appears to be vested in:<br>',\n",
       " 'FREO TEXAS, LLC<br>',\n",
       " '4.<br>',\n",
       " 'Legal description of the land:<br>',\n",
       " 'Lot 59, Block &quot;A&quot;, FOREST GROVE PHASE 1, an addition to the City of Princeton, Collin County, Texas, according<br>',\n",
       " 'to the Plat thereof recorded in Volume P, Page 945, Plat Records, Collin County, Texas.<br>',\n",
       " 'Countersigned<br>',\n",
       " 'By __________________________<br>',\n",
       " 'Authorized Signatory<br>',\n",
       " 'FORM T-7: Commitment for Title Insurance<br>',\n",
       " 'Page 1<br>',\n",
       " '<hr>',\n",
       " '<A name=2></a>Schedule B<br>',\n",
       " 'COMMITMENT FOR TITLE INSURANCE<br>',\n",
       " 'Issued By<br>',\n",
       " 'Chicago Title Insurance Company<br>',\n",
       " 'SCHEDULE B<br>',\n",
       " 'EXCEPTIONS FROM COVERAGE<br>',\n",
       " \"In addition to the Exclusions and Conditions and Stipulations, your Policy will not cover loss, costs, attorneys' fees, and expenses<br>\",\n",
       " 'resulting from:<br>',\n",
       " '1<br>',\n",
       " 'The following restrictive covenants of record itemized below (We must either insert specific recording data or delete this<br>',\n",
       " 'exception):<br>',\n",
       " \"Volume P, Page 945, Plat Records, Collin County, Texas, and Clerk's File No(s). Volume 5645, Page 3820 and Volume<br>\",\n",
       " '5800 Page 3159; 2004-00168036, 2006-00318040, 20080103000010370, 20120604000655080, 20121102001405100,<br>',\n",
       " '20131025001465360, 20141126000884840, 20150511000539360, of the Deed Records of Collin County, Texas, but<br>',\n",
       " 'omitting any covenant or restriction based on race, color, religion, sex, handicap, familial status or national origin<br>',\n",
       " 'unless and only to the extent that said covenant (a) is exempt under Title 42 of the United States Code, or (b) relates to<br>',\n",
       " 'handicap, but does not discriminate against handicapped persons.<br>',\n",
       " '2.<br>',\n",
       " 'Any discrepancies, conflicts, or shortages in area or boundary lines, or any encroachments or protrusions, or any overlapping<br>',\n",
       " 'of improvements.<br>',\n",
       " '3.<br>',\n",
       " \"Homestead or community property or survivorship rights, if any, of any spouse of any insured. (Applies to the Owner's<br>\",\n",
       " 'Policy only.)<br>',\n",
       " '4.<br>',\n",
       " 'Any titles or rights asserted by anyone, including, but not limited to, persons, the public, corporations, governments or other<br>',\n",
       " 'entities,<br>',\n",
       " 'a.<br>',\n",
       " 'to tidelands, or lands comprising the shores or beds of navigable or perennial rivers and streams, lakes, bays, gulfs or<br>',\n",
       " 'oceans, or<br>',\n",
       " 'b.<br>',\n",
       " 'to lands beyond the line of harbor or bulkhead lines as established or changed by any government, or<br>',\n",
       " 'c.<br>',\n",
       " 'to filled-in lands, or artificial islands, or<br>',\n",
       " 'd.<br>',\n",
       " 'to statutory water rights, including riparian rights, or<br>',\n",
       " 'e.<br>',\n",
       " 'to the area extending from the line of mean low tide to the line of vegetation, or the rights of access to that area or<br>',\n",
       " 'easement along and across that area.<br>',\n",
       " \"(Applies to the Owner's Policy only.)<br>\",\n",
       " '5.<br>',\n",
       " 'Standby fees, taxes and assessments by any taxing authority for the year 2013, and subsequent years; and subsequent taxes<br>',\n",
       " 'and assessments by any taxing authority for prior years due to change in land usage or ownership, but not those taxes or<br>',\n",
       " 'assessments for prior years because of an exemption granted to a previous owner of the property under Section 11.13, Texas<br>',\n",
       " 'Tax Code, or because of improvements not assessed for a previous tax year.<br>',\n",
       " '6.<br>',\n",
       " 'The terms and conditions of the documents creating your interest in the land.<br>',\n",
       " 'FORM T-7: Commitment for Title Insurance<br>',\n",
       " 'Page 2<br>',\n",
       " '<hr>',\n",
       " '<A name=3></a>Continuation of Schedule B<br>',\n",
       " '7.<br>',\n",
       " 'Materials furnished or labor performed in connection with planned construction before signing and delivering the lien<br>',\n",
       " 'document described in Schedule A, if the land is part of the homestead of the owner. (Applies to the Loan Title Policy<br>',\n",
       " 'Binder on Interim Construction Loan only, and may be deleted if satisfactory evidence is furnished to us before a binder is<br>',\n",
       " 'issued.)<br>',\n",
       " '8.<br>',\n",
       " 'Liens and leases that affect the title to the land, but that are subordinate to the lien of the insured mortgage. (Applies to Loan<br>',\n",
       " 'Policy (T-2) only.)<br>',\n",
       " '9.<br>',\n",
       " 'The Exceptions from Coverage and Express Insurance in Schedule B of the Texas Short Form Residential Loan Policy (T-<br>',\n",
       " '2R). (Applies to Texas Short Form Residential Loan Policy (T-2R) only. Separate exceptions 1 through 8 of this Schedule B<br>',\n",
       " 'do not apply to the Texas Short Form Residential Loan Policy (T-2R).<br>',\n",
       " '10.<br>',\n",
       " 'The following matters and all terms of the documents creating or offering evidence of the matters (We must insert matters or<br>',\n",
       " 'delete this exception.):<br>',\n",
       " '1.<br>',\n",
       " 'Any and all liens, covenants, conditions, reservations, or other matters affecting title to the real property<br>',\n",
       " 'described in Schedule A hereof, which are recognized or created in the deed to the insured.<br>',\n",
       " '2.<br>',\n",
       " 'Easements or claims of easements which are not recorded in the public records of Collin County, Texas. (To<br>',\n",
       " 'be amended after receipt of an acceptable survey)<br>',\n",
       " '3.<br>',\n",
       " 'Any visible or apparent easements over and across the property herein described.<br>',\n",
       " '4.<br>',\n",
       " 'The lien to be insured has not been created.<br>',\n",
       " '5.<br>',\n",
       " 'All, leases, grants, exceptions or reservations of coal, lignite, oil, gas and other minerals, together with all<br>',\n",
       " 'rights, privileges, and immunities relating thereto, appearing in the Public Records whether listed in<br>',\n",
       " 'Schedule B or not. There may be leases, grants, exceptions or reservations of mineral interest that are not<br>',\n",
       " 'listed.<br>',\n",
       " '6.<br>',\n",
       " \"Rights of parties in possession. (Owner's Policy Only)<br>\",\n",
       " '7.<br>',\n",
       " 'Any encroachment, encumbrance, violation, variation, or adverse circumstance affecting the title that would<br>',\n",
       " 'be disclosed by an accurate and complete land survey of the land.<br>',\n",
       " '8.<br>',\n",
       " 'Any portion of the property herein described which falls within the boundaries of a road or roadway.<br>',\n",
       " '9.<br>',\n",
       " 'Easements and building setback lines as set forth on the recorded plat and dedication.<br>',\n",
       " '10.<br>',\n",
       " 'Any encroachment, encumbrance, violation, variation, or adverse circumstance affecting the title that would<br>',\n",
       " 'be disclosed by an accurate and complete land survey of the land.<br>',\n",
       " '11.<br>',\n",
       " 'Any portion of the property herein described which falls within the boundaries of a road or roadway.<br>',\n",
       " 'FORM T-7: Commitment for Title Insurance<br>',\n",
       " 'Page 3<br>',\n",
       " '<hr>',\n",
       " '<A name=4></a>Schedule C<br>',\n",
       " 'COMMITMENT FOR TITLE INSURANCE<br>',\n",
       " 'Issued By<br>',\n",
       " 'Chicago Title Insurance Company<br>',\n",
       " 'SCHEDULE C<br>',\n",
       " \"Your Policy will not cover loss, costs, attorneys' fees, and expenses resulting from the following requirements that will appear as<br>\",\n",
       " 'Exceptions in Schedule B of the Policy, unless you dispose of these matters to our satisfaction, before the date the Policy is issued:<br>',\n",
       " '1.<br>',\n",
       " 'Documents creating your title or interest must be approved by us and must be signed, notarized and filed for record.<br>',\n",
       " '2.<br>',\n",
       " 'Satisfactory evidence must be provided that:<br>',\n",
       " 'a.<br>',\n",
       " 'no person occupying the land claims any interest in that land against the persons named in paragraph 3 of Schedule<br>',\n",
       " 'A,<br>',\n",
       " 'b.<br>',\n",
       " 'all standby fees, taxes, assessments and charges against the property have been paid,<br>',\n",
       " 'c.<br>',\n",
       " 'all improvements or repairs to the property are completed and accepted by the owner, and that all contractors,<br>',\n",
       " \"subcontractors, laborers and suppliers have been fully paid, and that no mechanic's, laborer's or materialmen's liens<br>\",\n",
       " 'have attached to the property,<br>',\n",
       " 'd.<br>',\n",
       " 'there is legal right of access to and from the land,<br>',\n",
       " 'e.<br>',\n",
       " '(on a Loan Policy only) restrictions have not been and will not be violated that affect the validity and priority of the<br>',\n",
       " 'insured mortgage.<br>',\n",
       " '3.<br>',\n",
       " 'You must pay the seller or borrower the agreed amount for your property or interest.<br>',\n",
       " '4.<br>',\n",
       " 'Any defect, lien or other matter that may affect title to the land or interest insured, that arises or is filed after the effective<br>',\n",
       " 'date of this Commitment POLICY.<br>',\n",
       " '5.<br>',\n",
       " 'The title insurance policy being issued to you contains an arbitration provision. It allows you or the Company to require<br>',\n",
       " 'arbitration if the amount of insurance is $1,000,000.00 or less. If you want to retain your right to sue the Company in case<br>',\n",
       " 'of a dispute over a claim, you must request deletion of the arbitration provision before the policy is issued. If you are the<br>',\n",
       " 'purchaser or lender in the transaction and request deletion of the arbitration provision, please advise us so prior to closing<br>',\n",
       " 'by executing the Addendum to this Commitment POLICY and returning it to us, or inform us in your closing instructions.<br>',\n",
       " '6.<br>',\n",
       " 'Procedural Rule P-27, as provided for by Article 9.39 of the Texas Insurance Code, requires that &quot;Good Funds&quot; be<br>',\n",
       " 'received and deposited before a Title Agent may disburse from its trust fund account.<br>',\n",
       " '7.<br>',\n",
       " 'Our office may require an Affidavit as to Debts and Liens to be executed at closing.<br>',\n",
       " '8.<br>',\n",
       " \"&quot;Rights of parties in possession&quot; shown in Schedule B of this commitment POLICY will be deleted from the Owner's Title<br>\",\n",
       " 'Policy ONLY if an inspection is made and paid for which shows no parties in possession other than the owner or<br>',\n",
       " 'purchaser(s). If such an inspection is not required, the purchaser(s) must sign a Waiver of Inspection and acknowledge<br>',\n",
       " \"that they understand that the Owner's Title Policy will be issued subject to the rights of parties in possession.<br>\",\n",
       " '9.<br>',\n",
       " 'Company requires a legible copy of current drivers license or other positive proof of identification of the parties to the<br>',\n",
       " 'closing.<br>',\n",
       " 'FORM T-7: Commitment for Title Insurance<br>',\n",
       " 'Page 4<br>',\n",
       " '<hr>',\n",
       " '<A name=5></a>Continuation of Schedule C<br>',\n",
       " \"10. Item 2, Schedule B may be amended to read &quot;Any shortages in area&quot; in the Owner's Title Policy if we are furnished a<br>\",\n",
       " 'current survey plat prepared by an approved licensed surveyor who certifies that there are no discrepancies, conflicts in<br>',\n",
       " 'boundary lines, or any encroachment(s), or any overlapping of improvements, and the payment of the additional required<br>',\n",
       " 'premium (15% of the basic rate) for this amendment.<br>',\n",
       " '11. Secure and submit for examination a copy of the limited liability company agreement, and any amendments thereof,<br>',\n",
       " 'establishing FREO Texas, LLC. This agreement must name the manager(s) who are authorized to execute documents on<br>',\n",
       " 'behalf of said limited liability company.<br>',\n",
       " '12. Secure and retain in the permanent records of the Company evidence that FREO Texas, LLC has filed articles of<br>',\n",
       " 'organization with the Secretary of State of the State of Texas.<br>',\n",
       " '13. Secure and retain in the permanent records of the Company written verification from Home Owners Association(s) stating<br>',\n",
       " 'there are no unpaid dues, assessments and/or fees as of the date of closing.<br>',\n",
       " 'Countersigned<br>',\n",
       " 'By __________________________<br>',\n",
       " 'Authorized Signatory<br>',\n",
       " 'FORM T-7: Commitment for Title Insurance<br>',\n",
       " 'Page 5<br>',\n",
       " '<hr>',\n",
       " '<A name=6></a>COMMITMENT FOR TITLE INSURANCE<br>',\n",
       " 'SCHEDULE D<br>',\n",
       " 'GF No. FRE<br>',\n",
       " 'Effective Date: October 6, 2015<br>',\n",
       " 'Pursuant to the requirements of Rule P-21, Basic Manual of Rules, Rates and Forms for the writing of Title Insurance in the State of<br>',\n",
       " 'Texas, the following disclosures are made:<br>',\n",
       " '1.<br>',\n",
       " 'The following individuals are directors and/or officers, as indicated, of the Title Insurance Company issuing this Commitment<br>',\n",
       " 'POLICY<br>',\n",
       " 'CHICAGO TITLE INSURANCE COMPANY:<br>',\n",
       " 'Officers:<br>',\n",
       " 'Directors:<br>',\n",
       " 'President<br>',\n",
       " 'Raymond Randall Quirk<br>',\n",
       " 'George Patrick Scanlon<br>',\n",
       " 'Executive Vice President<br>',\n",
       " 'Anthony John Park<br>',\n",
       " 'Raymond Randall Quirk<br>',\n",
       " 'Secretary<br>',\n",
       " 'Michael Louis Gravelle<br>',\n",
       " 'Anthony John Park<br>',\n",
       " 'Treasurer<br>',\n",
       " 'Daniel K. Murphy<br>',\n",
       " 'Fidelity National Financial, Inc. owns 100% of FNTG Holdings, Inc., which owns 100% of Fidelity National Title Group, Inc.,<br>',\n",
       " 'which owns 100% of Chicago Title Insurance Company.<br>',\n",
       " '2.<br>',\n",
       " 'Pursuant to the requirements of Rule P-21, Basic Manual of Rules, Rates and Forms for the Writing of Title Insurance in the<br>',\n",
       " 'State of Texas, the following disclosures are made:<br>',\n",
       " 'The following individuals are Officers and/or Directors of<br>',\n",
       " '3.<br>',\n",
       " 'You are entitled to receive advance disclosure of settlement charges in connection with the proposed transaction to which this<br>',\n",
       " 'commitment POLICY relates. Upon your request, such disclosure will be made to you. Additionally, the name of any person,<br>',\n",
       " 'firm or corporation receiving a portion of the premium from the settlement of this transaction will be disclosed on the closing or<br>',\n",
       " 'settlement statement.<br>',\n",
       " 'You are further advised that the estimated title premium</span><span class=\"ft4\">* </span><span class=\"ft0\">is:<br>',\n",
       " \"Owner's Policy<br>\",\n",
       " '$0.00<br>',\n",
       " 'Loan Policy<br>',\n",
       " '$0.00<br>',\n",
       " 'Endorsement Charges<br>',\n",
       " '$0.00<br>',\n",
       " 'Other<br>',\n",
       " '$0.00<br>',\n",
       " 'Total<br>',\n",
       " '$0.00<br>',\n",
       " 'Of this total amount: 15% will be paid to the policy issuing Title Insurance Company: 85% will be retained by the issuing Title<br>',\n",
       " 'Insurance Agent; and the remainder of the estimated premium will be paid to other parties as follows:<br>',\n",
       " 'Amount<br>',\n",
       " 'To Whom<br>',\n",
       " 'For Services<br>',\n",
       " '&quot;<br>',\n",
       " '*</span><span class=\"ft0\">The estimated premium is based upon information furnished to us as of the date of this Commitment POLICY for Title<br>',\n",
       " 'Insurance. Final determination of the amount of the premium will be made at closing in accordance with the Rules and Regulations<br>',\n",
       " 'adopted by the Commissioner of Insurance.&quot;<br>',\n",
       " 'FORM T-7: Commitment for Title Insurance<br>',\n",
       " 'Page 6<br>',\n",
       " '<hr>',\n",
       " '</BODY>',\n",
       " '</HTML>']"
      ]
     },
     "execution_count": 5,
     "metadata": {},
     "output_type": "execute_result"
    }
   ],
   "source": [
    "alldata"
   ]
  },
  {
   "cell_type": "code",
   "execution_count": 6,
   "metadata": {
    "collapsed": false
   },
   "outputs": [],
   "source": [
    "# makes a data frame out of the data \n",
    "raw_pdf = pd.DataFrame(alldata)"
   ]
  },
  {
   "cell_type": "code",
   "execution_count": 7,
   "metadata": {
    "collapsed": false
   },
   "outputs": [],
   "source": [
    "# finds the rows with blank data and fills them with Nan so they can be dropped, and drops them \n",
    "# (*note temporary commenting out because blank lines may be useful for grouping exceptions/requirements)\n",
    "# raw_pdf = raw_pdf[raw_pdf != '']\n",
    "# raw_pdf.dropna(inplace=True)"
   ]
  },
  {
   "cell_type": "code",
   "execution_count": 8,
   "metadata": {
    "collapsed": false
   },
   "outputs": [],
   "source": [
    "# lets reindex so that we don't have huge jumps in the index for dropped rows\n",
    "raw_pdf.set_index(np.arange(0,len(raw_pdf)),inplace = True)"
   ]
  },
  {
   "cell_type": "code",
   "execution_count": 9,
   "metadata": {
    "collapsed": false
   },
   "outputs": [],
   "source": [
    "# creating the list of headings to hunt for, hard-cording from the pdf, and using pandas tricks to get the last line.\n",
    "headings = ['SCHEDULE A','EXCEPTIONS FROM COVERAGE','SCHEDULE C', 'SCHEDULE D' ,(raw_pdf[0][raw_pdf.index[-1]])]"
   ]
  },
  {
   "cell_type": "code",
   "execution_count": 10,
   "metadata": {
    "collapsed": false
   },
   "outputs": [],
   "source": [
    "# create a dataframe to store the index locations for the starting line of each section\n",
    "locations = [0]\n",
    "df_locations = pd.DataFrame(locations)"
   ]
  },
  {
   "cell_type": "code",
   "execution_count": 11,
   "metadata": {
    "collapsed": false
   },
   "outputs": [],
   "source": [
    "# run each heading in our list through a search, and place those start index locations into a dataframe\n",
    "for heading in headings:\n",
    "    df_locations[heading] = raw_pdf[raw_pdf[0].str.match(heading)].index[0]"
   ]
  },
  {
   "cell_type": "code",
   "execution_count": 12,
   "metadata": {
    "collapsed": false
   },
   "outputs": [],
   "source": [
    "# some column labeling and cleanup, and sorting by order they appear in the pdf\n",
    "df_locations.drop(0,axis=1,inplace=True)\n",
    "df_locations = df_locations.rename({0:'start_line'}).transpose()\n",
    "df_locations.sort_values(by='start_line',inplace=True)"
   ]
  },
  {
   "cell_type": "code",
   "execution_count": 13,
   "metadata": {
    "collapsed": false
   },
   "outputs": [],
   "source": [
    "# shifting to a numeric index so it is easy to iterate over rows in Dataframe\n",
    "df_locations['sections'] = df_locations.index\n",
    "df_locations.reset_index(drop=True, inplace=True)"
   ]
  },
  {
   "cell_type": "code",
   "execution_count": 14,
   "metadata": {
    "collapsed": false
   },
   "outputs": [],
   "source": [
    "# creating the column indicating the ending line for each section of the pdf\n",
    "end = df_locations['start_line'][1:len(df_locations)].values\n",
    "end = np.append(end,df_locations['start_line'][len(df_locations)-1:len(df_locations)].values)\n",
    "df_locations['end_line'] = end"
   ]
  },
  {
   "cell_type": "code",
   "execution_count": 15,
   "metadata": {
    "collapsed": false
   },
   "outputs": [
    {
     "data": {
      "text/html": [
       "<div>\n",
       "<table border=\"1\" class=\"dataframe\">\n",
       "  <thead>\n",
       "    <tr style=\"text-align: right;\">\n",
       "      <th></th>\n",
       "      <th>start_line</th>\n",
       "      <th>sections</th>\n",
       "      <th>end_line</th>\n",
       "    </tr>\n",
       "  </thead>\n",
       "  <tbody>\n",
       "    <tr>\n",
       "      <th>0</th>\n",
       "      <td>9</td>\n",
       "      <td>SCHEDULE A</td>\n",
       "      <td>64</td>\n",
       "    </tr>\n",
       "    <tr>\n",
       "      <th>1</th>\n",
       "      <td>64</td>\n",
       "      <td>EXCEPTIONS FROM COVERAGE</td>\n",
       "      <td>160</td>\n",
       "    </tr>\n",
       "    <tr>\n",
       "      <th>2</th>\n",
       "      <td>160</td>\n",
       "      <td>SCHEDULE C</td>\n",
       "      <td>227</td>\n",
       "    </tr>\n",
       "    <tr>\n",
       "      <th>3</th>\n",
       "      <td>227</td>\n",
       "      <td>SCHEDULE D</td>\n",
       "      <td>284</td>\n",
       "    </tr>\n",
       "    <tr>\n",
       "      <th>4</th>\n",
       "      <td>284</td>\n",
       "      <td>&lt;/HTML&gt;</td>\n",
       "      <td>284</td>\n",
       "    </tr>\n",
       "  </tbody>\n",
       "</table>\n",
       "</div>"
      ],
      "text/plain": [
       "   start_line                  sections  end_line\n",
       "0           9                SCHEDULE A        64\n",
       "1          64  EXCEPTIONS FROM COVERAGE       160\n",
       "2         160                SCHEDULE C       227\n",
       "3         227                SCHEDULE D       284\n",
       "4         284                   </HTML>       284"
      ]
     },
     "execution_count": 15,
     "metadata": {},
     "output_type": "execute_result"
    }
   ],
   "source": [
    "df_locations"
   ]
  },
  {
   "cell_type": "code",
   "execution_count": 16,
   "metadata": {
    "collapsed": false
   },
   "outputs": [
    {
     "name": "stdout",
     "output_type": "stream",
     "text": [
      "Texass.html_df_SCHEDULE A\n",
      "Texass.html_df_EXCEPTIONS FROM COVERAGE\n",
      "Texass.html_df_SCHEDULE C\n",
      "Texass.html_df_SCHEDULE D\n",
      "Texass.html_df_HTML\n"
     ]
    }
   ],
   "source": [
    "# now we can use \"start_line\" and \"end_line\" to define slices of the raw_pdf Dataframe and make section-specific chunks\n",
    "# and output results to csv\n",
    "for index, row in df_locations.iterrows():\n",
    "    section = str(row[1]).strip(\"</>\")\n",
    "    string = (pdf_file + \"_\" + \"df\" + \"_\" + section)  \n",
    "    print string\n",
    "    string = raw_pdf[row[0]: row[2]]\n",
    "    string.to_csv(path_or_buf=(pdf_file + \"_\" + \"df\" + \"_\" + section + \".csv\"))"
   ]
  },
  {
   "cell_type": "code",
   "execution_count": null,
   "metadata": {
    "collapsed": true
   },
   "outputs": [],
   "source": []
  }
 ],
 "metadata": {
  "anaconda-cloud": {},
  "kernelspec": {
   "display_name": "Python [conda root]",
   "language": "python",
   "name": "conda-root-py"
  },
  "language_info": {
   "codemirror_mode": {
    "name": "ipython",
    "version": 2
   },
   "file_extension": ".py",
   "mimetype": "text/x-python",
   "name": "python",
   "nbconvert_exporter": "python",
   "pygments_lexer": "ipython2",
   "version": "2.7.12"
  }
 },
 "nbformat": 4,
 "nbformat_minor": 1
}
